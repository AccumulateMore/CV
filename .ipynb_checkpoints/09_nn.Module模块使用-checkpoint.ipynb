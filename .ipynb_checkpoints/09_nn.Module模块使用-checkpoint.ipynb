{
 "cells": [
  {
   "cell_type": "markdown",
   "metadata": {},
   "source": [
    "# 1. nn.Module模块使用"
   ]
  },
  {
   "cell_type": "markdown",
   "metadata": {},
   "source": [
    "① nn.Module是对所有神经网络提供一个基本的类。\n",
    "\n",
    "② 我们的神经网络是继承nn.Module这个类，即nn.Module为父类，nn.Module为所有神经网络提供一个模板，对其中一些我们不满意的部分进行修改。"
   ]
  },
  {
   "cell_type": "code",
   "execution_count": 1,
   "metadata": {},
   "outputs": [
    {
     "name": "stdout",
     "output_type": "stream",
     "text": [
      "tensor(2.)\n"
     ]
    }
   ],
   "source": [
    "import torch\n",
    "from torch import nn\n",
    "\n",
    "class Tudui(nn.Module):\n",
    "    def __init__(self):\n",
    "        super(Tudui, self).__init__()  # 继承父类的初始化\n",
    "        \n",
    "    def forward(self, input):          # 将forward函数进行重写\n",
    "        output = input + 1\n",
    "        return output\n",
    "    \n",
    "tudui = Tudui()\n",
    "x = torch.tensor(1.0)  # 创建一个值为 1.0 的tensor\n",
    "output = tudui(x)\n",
    "print(output)"
   ]
  },
  {
   "cell_type": "markdown",
   "metadata": {},
   "source": [
    "# 2. super(Myclass, self).\\__init__()"
   ]
  },
  {
   "cell_type": "markdown",
   "metadata": {},
   "source": [
    "① 简单理解就是子类把父类的\\_\\_init__()放到自己的\\_\\_init__()当中，这样子类就有了父类的\\__init__()的那些东西。\n",
    "\n",
    "② Myclass类继承nn.Module，super(Myclass, self).\\_\\_init__()就是对继承自父类nn.Module的属性进行初始化。而且是用nn.Module的初始化方法来初始化继承的属性。\n",
    "\n",
    "③ super().\\_\\_init__()来通过初始化父类属性以初始化自身继承了父类的那部分属性；这样一来，作为nn.Module的子类就无需再初始化那一部分属性了，只需初始化新加的元素。\n",
    "\n",
    "③ 子类继承了父类的所有属性和方法，父类属性自然会用父类方法来进行初始化。"
   ]
  },
  {
   "cell_type": "markdown",
   "metadata": {},
   "source": [
    "# 3. forward函数"
   ]
  },
  {
   "cell_type": "markdown",
   "metadata": {},
   "source": [
    "① 使用PyTorch的时候，不需要手动调用forward函数，只要在实例化一个对象中传入对应的参数就可以自动调用 forward 函数。\n",
    "\n",
    "② 因为 PyTorch 中的大部分方法都继承自 torch.nn.Module，而 torch.nn.Module 的\\_\\_call__(self)函数中会返回 forward()函数 的结果，因此PyTorch中的 forward()函数等于是被嵌套在了__call__(self)函数中；因此forward()函数可以直接通过类名被调用，而不用实例化对象。"
   ]
  },
  {
   "cell_type": "code",
   "execution_count": 2,
   "metadata": {},
   "outputs": [
    {
     "name": "stdout",
     "output_type": "stream",
     "text": [
      "i can called like a function\n",
      "传入参数的类型是：<class 'str'>   值为： i\n",
      "forward 函数被调用了\n",
      "in  forward, 传入参数类型是：<class 'str'>  值为: i\n",
      "对象a传入的参数是： i\n"
     ]
    }
   ],
   "source": [
    "class A():\n",
    "    def __call__(self, param):\n",
    "        print('I can be called like a function')\n",
    "        print('传入参数的类型是：{}   值为： {}'.format(type(param), param))\n",
    "        res = self.forward(param)\n",
    "        return res\n",
    "    \n",
    "    def forward(self, input_):\n",
    "        print('forward 函数被调用了')\n",
    "        print('in  forward, 传入参数类型是：{}  值为: {}'.format( type(input_), input_))\n",
    "        return input_\n",
    "\n",
    "a = A()\n",
    "input_param = a('i')\n",
    "print(\"对象a传入的参数是：\", input_param)"
   ]
  }
 ],
 "metadata": {
  "kernelspec": {
   "display_name": "Python 3 (ipykernel)",
   "language": "python",
   "name": "python3"
  },
  "language_info": {
   "codemirror_mode": {
    "name": "ipython",
    "version": 3
   },
   "file_extension": ".py",
   "mimetype": "text/x-python",
   "name": "python",
   "nbconvert_exporter": "python",
   "pygments_lexer": "ipython3",
   "version": "3.9.7"
  },
  "toc": {
   "base_numbering": 1,
   "nav_menu": {},
   "number_sections": false,
   "sideBar": true,
   "skip_h1_title": false,
   "title_cell": "Table of Contents",
   "title_sidebar": "Contents",
   "toc_cell": false,
   "toc_position": {
    "height": "calc(100% - 180px)",
    "left": "10px",
    "top": "150px",
    "width": "384.746px"
   },
   "toc_section_display": true,
   "toc_window_display": true
  }
 },
 "nbformat": 4,
 "nbformat_minor": 4
}
